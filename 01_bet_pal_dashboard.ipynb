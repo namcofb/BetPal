{
 "cells": [
  {
   "cell_type": "markdown",
   "id": "9f031418",
   "metadata": {},
   "source": [
    "# Personalized Bet Analytics"
   ]
  },
  {
   "cell_type": "markdown",
   "id": "9cd11c1e",
   "metadata": {},
   "source": [
    "Importing packages and modules..."
   ]
  },
  {
   "cell_type": "code",
   "execution_count": 2,
   "id": "ba2ac308",
   "metadata": {},
   "outputs": [],
   "source": [
    "import pandas as pd\n",
    "import matplotlib.pyplot as plt\n",
    "import seaborn as sns\n",
    "import plotly.express as px\n",
    "import plotly.graph_objects as go\n",
    "\n",
    "from dash import Dash, Input, Output, dcc, html"
   ]
  },
  {
   "cell_type": "markdown",
   "id": "91c4978a",
   "metadata": {},
   "source": [
    "Using wrangle function to clean data and create a data frame..."
   ]
  },
  {
   "cell_type": "code",
   "execution_count": 3,
   "id": "26e1fd4b",
   "metadata": {},
   "outputs": [],
   "source": [
    "def wrangle_func(filepath):\n",
    "    # Create dictionary to hold the needed information\n",
    "    info_dict = {\n",
    "        \"Date & Time\": [],\n",
    "        \"Status\": [],\n",
    "        \"Total Stake\": [],\n",
    "        \"Total Return\": []\n",
    "    }\n",
    "    \n",
    "    # Use file handling to open and read txt file\n",
    "    with open(filepath) as f:\n",
    "        first_line = f.readlines()\n",
    "    \n",
    "    # Use filter and map funtion to further clean data\n",
    "    first_line_no_break = list(filter(lambda x: False if x == \"\\n\" else True, first_line))\n",
    "    first_line_no_break = list(map(lambda x: x.replace(\"\\n\", \"\") if \"\\n\" in x else x, first_line_no_break))\n",
    "\n",
    "    # Create for loop to append cleaned data into info_dict\n",
    "    for line in first_line_no_break:\n",
    "        if \"/\" in line:\n",
    "            info_dict[\"Date & Time\"].append(line)\n",
    "        if \"Multiple\" in line:\n",
    "            info_dict[\"Status\"].append(line.replace(\"Multiple\", \"\"))\n",
    "        if \"Singles\" in line:\n",
    "            info_dict[\"Status\"].append(line.replace(\"Singles\", \"\"))\n",
    "        if \"Total Stake\" in line:\n",
    "            info_dict[\"Total Stake\"].append(line.replace(\"Total Stake:\", \"\"))\n",
    "        if \"Total Return\" in line:\n",
    "            info_dict[\"Total Return\"].append(line.replace(\"Total Return:\", \"\"))\n",
    "\n",
    "    # Use pandas to create dataframe as df\n",
    "    df = pd.DataFrame(info_dict)\n",
    "    \n",
    "    # Split date & time column for flexibility of data\n",
    "    # df[[\"Date\", \"Time\"]] = df[\"Date & Time\"].str.split(\" \", expand=True)\n",
    "    \n",
    "    df[\"Total Stake\"] = df[\"Total Stake\"].str.replace(\",\", \"\").astype(float)\n",
    "    \n",
    "    df[\"Total Return\"] = df[\"Total Return\"].str.replace(\",\", \"\").replace(\"--\", \"0.00\").astype(float)\n",
    "    \n",
    "    # Drop unwanted columns from dataframe\n",
    "    # df.drop(columns=[\"Date & Time\"], inplace=True)\n",
    "    \n",
    "    return df"
   ]
  },
  {
   "cell_type": "code",
   "execution_count": 4,
   "id": "cd990fd0",
   "metadata": {},
   "outputs": [
    {
     "data": {
      "text/html": [
       "<div>\n",
       "<style scoped>\n",
       "    .dataframe tbody tr th:only-of-type {\n",
       "        vertical-align: middle;\n",
       "    }\n",
       "\n",
       "    .dataframe tbody tr th {\n",
       "        vertical-align: top;\n",
       "    }\n",
       "\n",
       "    .dataframe thead th {\n",
       "        text-align: right;\n",
       "    }\n",
       "</style>\n",
       "<table border=\"1\" class=\"dataframe\">\n",
       "  <thead>\n",
       "    <tr style=\"text-align: right;\">\n",
       "      <th></th>\n",
       "      <th>Date &amp; Time</th>\n",
       "      <th>Status</th>\n",
       "      <th>Total Stake</th>\n",
       "      <th>Total Return</th>\n",
       "    </tr>\n",
       "  </thead>\n",
       "  <tbody>\n",
       "    <tr>\n",
       "      <th>0</th>\n",
       "      <td>30/10/2023 15:53</td>\n",
       "      <td>Running</td>\n",
       "      <td>500.00</td>\n",
       "      <td>0.00</td>\n",
       "    </tr>\n",
       "    <tr>\n",
       "      <th>1</th>\n",
       "      <td>30/10/2023 15:51</td>\n",
       "      <td>Running</td>\n",
       "      <td>245.57</td>\n",
       "      <td>0.00</td>\n",
       "    </tr>\n",
       "    <tr>\n",
       "      <th>2</th>\n",
       "      <td>29/10/2023 16:39</td>\n",
       "      <td>Won</td>\n",
       "      <td>1000.00</td>\n",
       "      <td>4745.57</td>\n",
       "    </tr>\n",
       "    <tr>\n",
       "      <th>3</th>\n",
       "      <td>29/10/2023 16:37</td>\n",
       "      <td>Lost</td>\n",
       "      <td>1000.00</td>\n",
       "      <td>0.00</td>\n",
       "    </tr>\n",
       "    <tr>\n",
       "      <th>4</th>\n",
       "      <td>28/10/2023 18:31</td>\n",
       "      <td>Lost</td>\n",
       "      <td>200.00</td>\n",
       "      <td>0.00</td>\n",
       "    </tr>\n",
       "  </tbody>\n",
       "</table>\n",
       "</div>"
      ],
      "text/plain": [
       "        Date & Time   Status  Total Stake  Total Return\n",
       "0  30/10/2023 15:53  Running       500.00          0.00\n",
       "1  30/10/2023 15:51  Running       245.57          0.00\n",
       "2  29/10/2023 16:39      Won      1000.00       4745.57\n",
       "3  29/10/2023 16:37     Lost      1000.00          0.00\n",
       "4  28/10/2023 18:31     Lost       200.00          0.00"
      ]
     },
     "execution_count": 4,
     "metadata": {},
     "output_type": "execute_result"
    }
   ],
   "source": [
    "df = wrangle_func(\"pat_stats_oct.txt\")\n",
    "df.head()"
   ]
  },
  {
   "cell_type": "code",
   "execution_count": 5,
   "metadata": {},
   "outputs": [
    {
     "data": {
      "text/plain": [
       "Index(['30/10/2023 15:53', '30/10/2023 15:51', '29/10/2023 16:39',\n",
       "       '29/10/2023 16:37', '28/10/2023 18:31', '28/10/2023 17:01',\n",
       "       '28/10/2023 16:03', '28/10/2023 13:09', '28/10/2023 13:06',\n",
       "       '28/10/2023 05:05', '21/10/2023 11:03', '21/10/2023 01:12',\n",
       "       '16/10/2023 23:49', '08/10/2023 13:56', '07/10/2023 11:21',\n",
       "       '07/10/2023 00:23', '06/10/2023 23:20', '06/10/2023 19:47',\n",
       "       '06/10/2023 16:04', '06/10/2023 15:59', '06/10/2023 15:53',\n",
       "       '06/10/2023 13:53', '06/10/2023 13:47', '06/10/2023 13:45',\n",
       "       '06/10/2023 13:43', '04/10/2023 21:07', '04/10/2023 15:50',\n",
       "       '04/10/2023 02:01', '03/10/2023 02:33', '01/10/2023 15:57',\n",
       "       '01/10/2023 12:56', '01/10/2023 12:53'],\n",
       "      dtype='object', name='Date & Time')"
      ]
     },
     "execution_count": 5,
     "metadata": {},
     "output_type": "execute_result"
    }
   ],
   "source": [
    "df.set_index(\"Date & Time\", inplace=True)\n",
    "df.index"
   ]
  },
  {
   "cell_type": "code",
   "execution_count": 6,
   "metadata": {},
   "outputs": [],
   "source": [
    "df.index = pd.DatetimeIndex(df.index)"
   ]
  },
  {
   "cell_type": "code",
   "execution_count": 7,
   "id": "9ee4f7ff",
   "metadata": {},
   "outputs": [
    {
     "name": "stdout",
     "output_type": "stream",
     "text": [
      "(32, 3)\n",
      "<class 'pandas.core.frame.DataFrame'>\n",
      "DatetimeIndex: 32 entries, 2023-10-30 15:53:00 to 2023-01-10 12:53:00\n",
      "Data columns (total 3 columns):\n",
      " #   Column        Non-Null Count  Dtype  \n",
      "---  ------        --------------  -----  \n",
      " 0   Status        32 non-null     object \n",
      " 1   Total Stake   32 non-null     float64\n",
      " 2   Total Return  32 non-null     float64\n",
      "dtypes: float64(2), object(1)\n",
      "memory usage: 1.0+ KB\n"
     ]
    },
    {
     "data": {
      "text/html": [
       "<div>\n",
       "<style scoped>\n",
       "    .dataframe tbody tr th:only-of-type {\n",
       "        vertical-align: middle;\n",
       "    }\n",
       "\n",
       "    .dataframe tbody tr th {\n",
       "        vertical-align: top;\n",
       "    }\n",
       "\n",
       "    .dataframe thead th {\n",
       "        text-align: right;\n",
       "    }\n",
       "</style>\n",
       "<table border=\"1\" class=\"dataframe\">\n",
       "  <thead>\n",
       "    <tr style=\"text-align: right;\">\n",
       "      <th></th>\n",
       "      <th>Status</th>\n",
       "      <th>Total Stake</th>\n",
       "      <th>Total Return</th>\n",
       "    </tr>\n",
       "    <tr>\n",
       "      <th>Date &amp; Time</th>\n",
       "      <th></th>\n",
       "      <th></th>\n",
       "      <th></th>\n",
       "    </tr>\n",
       "  </thead>\n",
       "  <tbody>\n",
       "    <tr>\n",
       "      <th>2023-10-30 15:53:00</th>\n",
       "      <td>Running</td>\n",
       "      <td>500.00</td>\n",
       "      <td>0.00</td>\n",
       "    </tr>\n",
       "    <tr>\n",
       "      <th>2023-10-30 15:51:00</th>\n",
       "      <td>Running</td>\n",
       "      <td>245.57</td>\n",
       "      <td>0.00</td>\n",
       "    </tr>\n",
       "    <tr>\n",
       "      <th>2023-10-29 16:39:00</th>\n",
       "      <td>Won</td>\n",
       "      <td>1000.00</td>\n",
       "      <td>4745.57</td>\n",
       "    </tr>\n",
       "    <tr>\n",
       "      <th>2023-10-29 16:37:00</th>\n",
       "      <td>Lost</td>\n",
       "      <td>1000.00</td>\n",
       "      <td>0.00</td>\n",
       "    </tr>\n",
       "    <tr>\n",
       "      <th>2023-10-28 18:31:00</th>\n",
       "      <td>Lost</td>\n",
       "      <td>200.00</td>\n",
       "      <td>0.00</td>\n",
       "    </tr>\n",
       "  </tbody>\n",
       "</table>\n",
       "</div>"
      ],
      "text/plain": [
       "                      Status  Total Stake  Total Return\n",
       "Date & Time                                            \n",
       "2023-10-30 15:53:00  Running       500.00          0.00\n",
       "2023-10-30 15:51:00  Running       245.57          0.00\n",
       "2023-10-29 16:39:00      Won      1000.00       4745.57\n",
       "2023-10-29 16:37:00     Lost      1000.00          0.00\n",
       "2023-10-28 18:31:00     Lost       200.00          0.00"
      ]
     },
     "execution_count": 7,
     "metadata": {},
     "output_type": "execute_result"
    }
   ],
   "source": [
    "print(df.shape)\n",
    "df.info()\n",
    "df.head()"
   ]
  },
  {
   "cell_type": "markdown",
   "id": "fdc9f3d7",
   "metadata": {},
   "source": [
    "### Get the counts of the `Status` column and representing the values in a pie chart."
   ]
  },
  {
   "cell_type": "code",
   "execution_count": 8,
   "id": "5bfd7c3e",
   "metadata": {},
   "outputs": [
    {
     "data": {
      "text/html": [
       "<div>\n",
       "<style scoped>\n",
       "    .dataframe tbody tr th:only-of-type {\n",
       "        vertical-align: middle;\n",
       "    }\n",
       "\n",
       "    .dataframe tbody tr th {\n",
       "        vertical-align: top;\n",
       "    }\n",
       "\n",
       "    .dataframe thead th {\n",
       "        text-align: right;\n",
       "    }\n",
       "</style>\n",
       "<table border=\"1\" class=\"dataframe\">\n",
       "  <thead>\n",
       "    <tr style=\"text-align: right;\">\n",
       "      <th></th>\n",
       "      <th>count</th>\n",
       "    </tr>\n",
       "    <tr>\n",
       "      <th>Status</th>\n",
       "      <th></th>\n",
       "    </tr>\n",
       "  </thead>\n",
       "  <tbody>\n",
       "    <tr>\n",
       "      <th>Lost</th>\n",
       "      <td>27</td>\n",
       "    </tr>\n",
       "    <tr>\n",
       "      <th>Won</th>\n",
       "      <td>3</td>\n",
       "    </tr>\n",
       "    <tr>\n",
       "      <th>Running</th>\n",
       "      <td>2</td>\n",
       "    </tr>\n",
       "  </tbody>\n",
       "</table>\n",
       "</div>"
      ],
      "text/plain": [
       "         count\n",
       "Status        \n",
       "Lost        27\n",
       "Won          3\n",
       "Running      2"
      ]
     },
     "execution_count": 8,
     "metadata": {},
     "output_type": "execute_result"
    }
   ],
   "source": [
    "bet_status_chart = df[\"Status\"].value_counts().to_frame()\n",
    "bet_status_chart"
   ]
  },
  {
   "cell_type": "code",
   "execution_count": 10,
   "id": "939d95ab",
   "metadata": {},
   "outputs": [
    {
     "data": {
      "image/png": "[encoded data removed]",
      "text/plain": [
       "<Figure size 640x480 with 1 Axes>"
      ]
     },
     "metadata": {},
     "output_type": "display_data"
    }
   ],
   "source": [
    "bet_status_chart.plot.pie(\n",
    "    y=\"count\",\n",
    "    title=\"Bet History Status Chart\",\n",
    "    colors=[\"tab:red\", \"tab:green\", \"tab:grey\"],\n",
    "    autopct='%1.1f%%'\n",
    ");"
   ]
  },
  {
   "cell_type": "markdown",
   "id": "fb71072c",
   "metadata": {},
   "source": [
    "### Prepare a bar chart showing the `Status` counts across the given dates."
   ]
  },
  {
   "cell_type": "markdown",
   "id": "7dfc53e4",
   "metadata": {},
   "source": [
    "In order to get the different status value counts across the dates in which bets were placed, we have to group the `Status` column by the `Date` column using the `groupby` method. With the data frame `count_group` we can plot our bar chart."
   ]
  },
  {
   "cell_type": "code",
   "execution_count": 12,
   "id": "b8526216",
   "metadata": {},
   "outputs": [
    {
     "data": {
      "text/html": [
       "<div>\n",
       "<style scoped>\n",
       "    .dataframe tbody tr th:only-of-type {\n",
       "        vertical-align: middle;\n",
       "    }\n",
       "\n",
       "    .dataframe tbody tr th {\n",
       "        vertical-align: top;\n",
       "    }\n",
       "\n",
       "    .dataframe thead th {\n",
       "        text-align: right;\n",
       "    }\n",
       "</style>\n",
       "<table border=\"1\" class=\"dataframe\">\n",
       "  <thead>\n",
       "    <tr style=\"text-align: right;\">\n",
       "      <th></th>\n",
       "      <th>Date</th>\n",
       "      <th>Status</th>\n",
       "      <th>Count</th>\n",
       "    </tr>\n",
       "  </thead>\n",
       "  <tbody>\n",
       "    <tr>\n",
       "      <th>0</th>\n",
       "      <td>01/10/2023</td>\n",
       "      <td>Lost</td>\n",
       "      <td>3</td>\n",
       "    </tr>\n",
       "    <tr>\n",
       "      <th>1</th>\n",
       "      <td>03/10/2023</td>\n",
       "      <td>Lost</td>\n",
       "      <td>1</td>\n",
       "    </tr>\n",
       "    <tr>\n",
       "      <th>2</th>\n",
       "      <td>04/10/2023</td>\n",
       "      <td>Lost</td>\n",
       "      <td>3</td>\n",
       "    </tr>\n",
       "    <tr>\n",
       "      <th>3</th>\n",
       "      <td>06/10/2023</td>\n",
       "      <td>Lost</td>\n",
       "      <td>7</td>\n",
       "    </tr>\n",
       "    <tr>\n",
       "      <th>4</th>\n",
       "      <td>06/10/2023</td>\n",
       "      <td>Won</td>\n",
       "      <td>2</td>\n",
       "    </tr>\n",
       "    <tr>\n",
       "      <th>5</th>\n",
       "      <td>07/10/2023</td>\n",
       "      <td>Lost</td>\n",
       "      <td>2</td>\n",
       "    </tr>\n",
       "    <tr>\n",
       "      <th>6</th>\n",
       "      <td>08/10/2023</td>\n",
       "      <td>Lost</td>\n",
       "      <td>1</td>\n",
       "    </tr>\n",
       "    <tr>\n",
       "      <th>7</th>\n",
       "      <td>16/10/2023</td>\n",
       "      <td>Lost</td>\n",
       "      <td>1</td>\n",
       "    </tr>\n",
       "    <tr>\n",
       "      <th>8</th>\n",
       "      <td>21/10/2023</td>\n",
       "      <td>Lost</td>\n",
       "      <td>2</td>\n",
       "    </tr>\n",
       "    <tr>\n",
       "      <th>9</th>\n",
       "      <td>28/10/2023</td>\n",
       "      <td>Lost</td>\n",
       "      <td>6</td>\n",
       "    </tr>\n",
       "    <tr>\n",
       "      <th>10</th>\n",
       "      <td>29/10/2023</td>\n",
       "      <td>Lost</td>\n",
       "      <td>1</td>\n",
       "    </tr>\n",
       "    <tr>\n",
       "      <th>11</th>\n",
       "      <td>29/10/2023</td>\n",
       "      <td>Won</td>\n",
       "      <td>1</td>\n",
       "    </tr>\n",
       "    <tr>\n",
       "      <th>12</th>\n",
       "      <td>30/10/2023</td>\n",
       "      <td>Running</td>\n",
       "      <td>2</td>\n",
       "    </tr>\n",
       "  </tbody>\n",
       "</table>\n",
       "</div>"
      ],
      "text/plain": [
       "          Date   Status  Count\n",
       "0   01/10/2023     Lost      3\n",
       "1   03/10/2023     Lost      1\n",
       "2   04/10/2023     Lost      3\n",
       "3   06/10/2023     Lost      7\n",
       "4   06/10/2023      Won      2\n",
       "5   07/10/2023     Lost      2\n",
       "6   08/10/2023     Lost      1\n",
       "7   16/10/2023     Lost      1\n",
       "8   21/10/2023     Lost      2\n",
       "9   28/10/2023     Lost      6\n",
       "10  29/10/2023     Lost      1\n",
       "11  29/10/2023      Won      1\n",
       "12  30/10/2023  Running      2"
      ]
     },
     "execution_count": 12,
     "metadata": {},
     "output_type": "execute_result"
    }
   ],
   "source": [
    "count_group = df[\"Status\"].groupby(df[\"Date\"]).value_counts().rename(\"Count\").reset_index()\n",
    "count_group"
   ]
  },
  {
   "cell_type": "code",
   "execution_count": 13,
   "id": "b76ac61e",
   "metadata": {},
   "outputs": [
    {
     "data": {
      "image/png": "[encoded data removed]",
      "text/plain": [
       "<Figure size 640x480 with 1 Axes>"
      ]
     },
     "metadata": {},
     "output_type": "display_data"
    }
   ],
   "source": [
    "# Create bar chart using seaborn\n",
    "sns.barplot(\n",
    "    x=\"Date\",\n",
    "    y=\"Count\",\n",
    "    hue=\"Status\",\n",
    "    palette= {\n",
    "        \"Lost\": \"tab:red\",\n",
    "        \"Won\": \"tab:green\",\n",
    "        \"Running\": \"tab:grey\"\n",
    "        },\n",
    "    data=count_group\n",
    ")\n",
    "plt.xlabel(\"Date\")\n",
    "plt.ylabel(\"Count\")\n",
    "plt.title(\"Status Distribution\");"
   ]
  },
  {
   "cell_type": "markdown",
   "id": "150bbc5f",
   "metadata": {},
   "source": [
    "### Calculate total staked and total returns"
   ]
  },
  {
   "cell_type": "code",
   "execution_count": 14,
   "id": "aa267b69",
   "metadata": {},
   "outputs": [],
   "source": [
    "# Calcute total wins\n",
    "mask_wins = df[\"Status\"] == \"Won\"\n",
    "df_wins = df[mask_wins]\n",
    "Total_wins = df_wins[\"Total Return\"].sum().round(2)"
   ]
  },
  {
   "cell_type": "code",
   "execution_count": 15,
   "id": "71f816aa",
   "metadata": {},
   "outputs": [],
   "source": [
    "# Calculate total lost\n",
    "mask_lost = df[\"Status\"] == \"Lost\"\n",
    "df_lost = df[mask_lost]\n",
    "Total_lost = df_lost[\"Total Stake\"].sum().round(2)"
   ]
  },
  {
   "cell_type": "code",
   "execution_count": 16,
   "id": "52d5d4eb",
   "metadata": {},
   "outputs": [
    {
     "name": "stdout",
     "output_type": "stream",
     "text": [
      "Total Staked: 12326.75\n",
      "\n",
      "Total Won: 8076.75\n",
      "\n",
      "Total Lost: 9781.18\n"
     ]
    }
   ],
   "source": [
    "# Calculate total stakes\n",
    "Total_staked = df[\"Total Stake\"].sum()\n",
    "# Presenting results\n",
    "print(f\"Total Staked: {Total_staked}\")\n",
    "print(\"\")\n",
    "print(f\"Total Won: {Total_wins}\")\n",
    "print(\"\")\n",
    "print(f\"Total Lost: {Total_lost}\")"
   ]
  },
  {
   "cell_type": "markdown",
   "id": "87a0a9f8",
   "metadata": {},
   "source": [
    "## Create web dashboard app using Dash"
   ]
  },
  {
   "cell_type": "code",
   "execution_count": 26,
   "id": "e6b0e21a",
   "metadata": {},
   "outputs": [],
   "source": [
    "app = Dash(__name__)\n",
    "Server = app.server"
   ]
  },
  {
   "cell_type": "code",
   "execution_count": 65,
   "id": "21e21f85",
   "metadata": {},
   "outputs": [],
   "source": [
    "fig1 = go.Figure(data=[\n",
    "    go.Pie(labels=bet_status_chart.index,\n",
    "           values=bet_status_chart[\"count\"],\n",
    "           hole=.3,\n",
    "           title=\"Chart of Bet Status History\"\n",
    "          )\n",
    "])\n",
    "\n",
    "fig2 = px.bar(\n",
    "    count_group, \n",
    "    x=\"Date\", \n",
    "    y=\"Count\", \n",
    "    color=\"Status\", \n",
    "    title=\"Bet Status History\"\n",
    ")"
   ]
  },
  {
   "cell_type": "code",
   "execution_count": 66,
   "id": "7c15c2d8",
   "metadata": {},
   "outputs": [],
   "source": [
    "app.layout = html.Div(\n",
    "    [\n",
    "        html.H1(\"Welcome to your Dashboard!\"),\n",
    "        dcc.Graph(figure=fig1, id=\"pie-chart\"),\n",
    "        html.Div(\n",
    "            [\n",
    "            html.H2(f\"Total Staked: N{Total_staked}\"),  \n",
    "            html.H2(f\"Total Won: N{Total_wins}\"),\n",
    "            html.H2(f\"Total Lost: N{Total_lost}\")\n",
    "        ]   \n",
    "        ),\n",
    "        dcc.Graph(figure=fig2, id=\"bar-chart\")\n",
    "        \n",
    "    ]\n",
    ")"
   ]
  },
  {
   "cell_type": "code",
   "execution_count": null,
   "id": "1bca6e48",
   "metadata": {},
   "outputs": [],
   "source": [
    "app.run(jupyter_mode=\"external\")"
   ]
  }
 ],
 "metadata": {
  "kernelspec": {
   "display_name": "Python 3 (ipykernel)",
   "language": "python",
   "name": "python3"
  },
  "language_info": {
   "codemirror_mode": {
    "name": "ipython",
    "version": 3
   },
   "file_extension": ".py",
   "mimetype": "text/x-python",
   "name": "python",
   "nbconvert_exporter": "python",
   "pygments_lexer": "ipython3",
   "version": "3.10.4"
  }
 },
 "nbformat": 4,
 "nbformat_minor": 5
}
